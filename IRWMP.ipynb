{
 "cells": [
  {
   "cell_type": "code",
   "execution_count": 1,
   "metadata": {
    "collapsed": false
   },
   "outputs": [],
   "source": [
    "import sys\n",
    "import os\n",
    "import io\n",
    "import re\n",
    "import db\n",
    "import wrangling as wr\n",
    "import numpy as np\n",
    "import plotly.plotly as py\n",
    "import plotly.graph_objs as go\n",
    "# from __future__ import statistcs as stats\n",
    "\n",
    "databaseName = \"database.csv\"\n",
    "fundedProjectsFile = \"FundedProjects.csv\"\n",
    "dbreaderHandle = db.createReader(databaseName)\n",
    "fundedProjectsHandle = db.createReader(fundedProjectsFile)\n",
    "dbreader = dbreaderHandle[0]\n",
    "fprojectsreader = fundedProjectsHandle[0]\n",
    "\n",
    "# vectors & dicts\n",
    "locationLatAndLong = []\n",
    "\n",
    "countiesDict = {}\n",
    "sponsorsOfProposedProjects = {}\n",
    "areasOfInterestByCounty = {}\n",
    "\n",
    "projFundingAmounts =  []\n",
    "projTotalCosts = []\n",
    "fundedProjectsTitles = []\n",
    "\n",
    "# Vectors used during classification.\n",
    "proposedProjectsTitles = []\n",
    "proposedProjectsAbstracts = []\n",
    "proposedProjectsLocationDescriptions = []\n",
    "proposedProjectsProjectTypeDescription = []\n",
    "proposedProjectsDetailedDescription = []\n",
    "proposedProjectsProjectNeed = []\n",
    "proposedProjectsCriticalImpacts = []\n",
    "proposedProjectsBenefits = []\n",
    "\n",
    "essence = []\n",
    "\n",
    "# Bitvectors\n",
    "drinkingWater = []\n",
    "waterQualityImprovement = []\n",
    "waterReuseAndRecycling = []\n",
    "stormwaterImprovements = []\n",
    "groundwaterBenefits = []\n",
    "infiltration = []\n",
    "habitatProtection = []\n",
    "floodProtection = []\n",
    "\n",
    "#Constants\n",
    "areasOfInterest = [\n",
    "    'Drinking Water Supply',\n",
    "    'Water Quality Improvement',\n",
    "    'Water Reuse/Recycling',\n",
    "    'Stormwater Improvements',\n",
    "    'Groundwater Benefits',\n",
    "    'Infiltration',\n",
    "    'Habitat Protection and Restoration',\n",
    "    'Flood Protection'\n",
    "]"
   ]
  },
  {
   "cell_type": "code",
   "execution_count": 2,
   "metadata": {
    "collapsed": true
   },
   "outputs": [],
   "source": [
    "def fillSponsorsDict(row):\n",
    "    sponsorsStr = row[12]\n",
    "    sponsorsStr = sponsorsStr.strip().replace(\"\\n\", \"/\")\n",
    "    if len(sponsorsStr) == 0:\n",
    "        return\n",
    "    tokens = sponsorsStr.split(\"/\")\n",
    "    for eachAgency in tokens:\n",
    "        eachAgency = eachAgency.strip()\n",
    "        if len(sponsorsStr) == 0:\n",
    "            continue\n",
    "        if \"zone 7\" in sponsorsStr or sponsorsStr is \"zone 7\":\n",
    "            sponsorsStr = \"zone 7 water agency\"\n",
    "            \n",
    "        if eachAgency in sponsorsOfProposedProjects:\n",
    "            sponsorsOfProposedProjects[eachAgency] += 1\n",
    "        else:\n",
    "            sponsorsOfProposedProjects[eachAgency] = 1"
   ]
  },
  {
   "cell_type": "code",
   "execution_count": 3,
   "metadata": {
    "collapsed": true
   },
   "outputs": [],
   "source": [
    "def appendBitvectors(row):\n",
    "    appendToV(row, drinkingWater, 13)\n",
    "    appendToV(row, waterQualityImprovement, 14)\n",
    "    appendToV(row, waterReuseAndRecycling, 15)\n",
    "    appendToV(row, stormwaterImprovements, 16)\n",
    "    appendToV(row, groundwaterBenefits, 17)\n",
    "    appendToV(row, infiltration, 18)\n",
    "    appendToV(row, habitatProtection, 19)\n",
    "    appendToV(row, floodProtection, 20)\n",
    "    \n",
    "def appendToV(row, vector, index):\n",
    "    if(\"1\" in row[index]):\n",
    "        vector.append(1)\n",
    "    else:\n",
    "        vector.append(0)"
   ]
  },
  {
   "cell_type": "code",
   "execution_count": 4,
   "metadata": {
    "collapsed": false
   },
   "outputs": [],
   "source": [
    "def incrementAreasOfInterestCounts(ls, row):\n",
    "    start = 13\n",
    "    end = 20         \n",
    "    for i in range(start, end+1):\n",
    "        if(\"1\" in row[i]):\n",
    "            ls[i - start] += 1\n",
    "\n",
    "def initialize(row):\n",
    "    ls = []\n",
    "    start = 13\n",
    "    end = 20\n",
    "    for i in range(start, end+1):\n",
    "        if(\"1\" in row[i]):\n",
    "            ls.append(1)\n",
    "        else:\n",
    "            ls.append(0)\n",
    "    return ls\n",
    "\n",
    "\n",
    "def appendCounties(row):\n",
    "    countyStr = row[2]\n",
    "    counties1 = []\n",
    "    counties2 = []\n",
    "\n",
    "    countyStr = countyStr.replace(\"and \", \"\").replace(\"and\", \"\").replace(\"?\", \"\").replace(\".\", \"\").replace(\"Counties\",\"\")\n",
    "    counties1 = countyStr.split(\";\")\n",
    "    for name in counties1:\n",
    "        name = name.strip();\n",
    "        if \"sf\" in name:\n",
    "            name = \"san francisco\"\n",
    "        if \"mateo santa\" in name:\n",
    "            counties2.append(\"san mateo county\")\n",
    "            counties2.append(\"santa clara county\")\n",
    "            continue\n",
    "        if \"mateo san fr\" in name:\n",
    "            counties2.append(\"san mateo county\")\n",
    "            counties2.append(\"san francisco county\")\n",
    "            continue;\n",
    "        if len(name) > 0 and \"county\" not in name and not (name.startswith(\"all\") or name.startswith(\"9\")):\n",
    "            name += \" county\"\n",
    "            counties2.append(name)\n",
    "\n",
    "    for eachName in counties2:\n",
    "        if eachName:\n",
    "            if eachName in countiesDict:\n",
    "                countiesDict[eachName] += 1\n",
    "            else:\n",
    "                countiesDict[eachName] = 1\n",
    "                 \n",
    "            if eachName in areasOfInterestByCounty:\n",
    "                incrementAreasOfInterestCounts(areasOfInterestByCounty[eachName], row)\n",
    "            else:\n",
    "                areasOfInterestByCounty[eachName] = initialize(row)"
   ]
  },
  {
   "cell_type": "code",
   "execution_count": 5,
   "metadata": {
    "collapsed": true
   },
   "outputs": [],
   "source": [
    "def append(to,from_, at):\n",
    "    to.append(from_[at])\n",
    "\n",
    "def appendToClassificationVectors(row):\n",
    "    append(proposedProjectsTitles, row, 0)\n",
    "    append(proposedProjectsAbstracts, row, 1)\n",
    "    append(proposedProjectsLocationDescriptions, row, 6)\n",
    "    append(proposedProjectsProjectTypeDescription, row, 7)\n",
    "    append(proposedProjectsDetailedDescription, row, 8)\n",
    "    append(proposedProjectsProjectNeed, row, 9)\n",
    "    append(proposedProjectsCriticalImpacts, row, 10)\n",
    "    append(proposedProjectsBenefits, row, 11)\n",
    "    \n",
    "    curEssence = row[0] + \" \" + row[1] + \" \" + row[6] + \" \" + row[7] + \" \" + row[8] + \" \" + row[9] + \" \"\n",
    "    curEssence += row[10] + \" \" + row[11]\n",
    "    essence.append(curEssence)"
   ]
  },
  {
   "cell_type": "code",
   "execution_count": 6,
   "metadata": {
    "collapsed": false
   },
   "outputs": [],
   "source": [
    "def execute():\n",
    "    next(dbreader) # Skip header\n",
    "    \n",
    "    for row in dbreader:\n",
    "        appendCounties(row)\n",
    "        appendBitvectors(row)\n",
    "        fillSponsorsDict(row)\n",
    "        appendToClassificationVectors(row)\n",
    "        \n",
    "execute()"
   ]
  },
  {
   "cell_type": "code",
   "execution_count": null,
   "metadata": {
    "collapsed": true
   },
   "outputs": [],
   "source": [
    "wr.iplotPlotPie(countiesDict, \"Counties of Proposed Projects\")"
   ]
  },
  {
   "cell_type": "code",
   "execution_count": 209,
   "metadata": {
    "collapsed": false
   },
   "outputs": [
    {
     "data": {
      "text/plain": [
       "u'https://plot.ly/~jlikhuva/96'"
      ]
     },
     "execution_count": 209,
     "metadata": {},
     "output_type": "execute_result"
    }
   ],
   "source": [
    "# [0, 1, 2, 3, 4, 5, 6, 7, 8, 9]\n",
    "def createTrace(yvals, i):\n",
    "    trace = {\n",
    "      'x': areasOfInterestByCounty.keys(),\n",
    "      'y': yvals,\n",
    "      'name': areasOfInterest[i],\n",
    "      'type': 'bar'\n",
    "    };\n",
    "    return trace\n",
    "    \n",
    "def gatherValuesAt(index):\n",
    "    ls = []\n",
    "    for _, val in areasOfInterestByCounty.iteritems():\n",
    "        ls.append(val[index])\n",
    "#     print ls\n",
    "    return ls\n",
    "\n",
    "cdata = []\n",
    "for i in range(0, len(areasOfInterest)):\n",
    "    yvals = gatherValuesAt(i)\n",
    "    cdata.append(createTrace(yvals, i))\n",
    "\n",
    "layout = {\n",
    "  'xaxis': {'title': 'Bay Area Counties'},\n",
    "  'yaxis': {'title': 'Areas of interest'},\n",
    "  'barmode': 'relative',\n",
    "  'title': 'Areas Of Interest By County.',\n",
    " 'orientation' : 'h'\n",
    "};\n",
    "py.plot({'data': cdata, 'layout': layout})"
   ]
  },
  {
   "cell_type": "code",
   "execution_count": 126,
   "metadata": {
    "collapsed": false
   },
   "outputs": [],
   "source": [
    "def produceBubbleChart(data, maxN):\n",
    "    n = len(data)\n",
    "    chart = go.Scatter(\n",
    "        x = wr.getRandomIntList(0, maxN, n),\n",
    "        y = wr.getRandomIntList(0, maxN, n),\n",
    "        text = data.keys(),\n",
    "        mode = \"markers\",\n",
    "        marker = dict(\n",
    "            size = data.values(),\n",
    "        ) \n",
    "    )\n",
    "    data = [chart]\n",
    "    py.plot(data)    "
   ]
  },
  {
   "cell_type": "code",
   "execution_count": 98,
   "metadata": {
    "collapsed": false
   },
   "outputs": [],
   "source": [
    "def produceAreasOfInterestCharts():\n",
    "    titles = db.kHeadingNames\n",
    "    data = [go.Bar(\n",
    "            x=[titles[13], titles[14], titles[15], titles[16], titles[17], titles[18], titles[19], titles[20]],\n",
    "            y=[sum(drinkingWater), sum(waterQualityImprovement), sum(waterReuseAndRecycling),\n",
    "               sum(stormwaterImprovements), sum(groundwaterBenefits), sum(infiltration),\n",
    "               sum(habitatProtection), sum(floodProtection)],\n",
    "             marker = dict(\n",
    "                color = \"rgb(193, 7, 184)\"\n",
    "            )\n",
    "    )]\n",
    "    py.plot(data)\n",
    "produceAreasOfInterestCharts()"
   ]
  },
  {
   "cell_type": "code",
   "execution_count": 127,
   "metadata": {
    "collapsed": false
   },
   "outputs": [],
   "source": [
    "def produceHistogram(data):\n",
    "    data = [go.Bar(\n",
    "            x = data.keys(),\n",
    "            y = data.values(),\n",
    "            marker = dict(\n",
    "                color = \"rgb(30, 188, 75)\"\n",
    "            )\n",
    "        )]\n",
    "    py.plot(data)"
   ]
  },
  {
   "cell_type": "code",
   "execution_count": 107,
   "metadata": {
    "collapsed": false
   },
   "outputs": [],
   "source": [
    "# wr.iplotPlotPie(sponsorsOfProposedProjects, \"Sponsors of proposed projects.\")\n",
    "# produceBubbleChart(sponsorsOfProposedProjects, 500)\n",
    "produceHistogram(sponsorsOfProposedProjects)"
   ]
  },
  {
   "cell_type": "code",
   "execution_count": 5,
   "metadata": {
    "collapsed": false
   },
   "outputs": [],
   "source": [
    "def readInFundingAmounts(row):\n",
    "    fundedProjectsTitles.append(row[0])\n",
    "    projFundingAmounts.append(row[6])\n",
    "    projTotalCosts.append(row[7])\n",
    "    \n",
    "for row in fprojectsreader:\n",
    "    readInFundingAmounts(row)"
   ]
  },
  {
   "cell_type": "code",
   "execution_count": 226,
   "metadata": {
    "collapsed": true
   },
   "outputs": [],
   "source": [
    "'''\n",
    "Code in this snippet courtesey of S.O User \n",
    "http://stackoverflow.com/users/3923281/ajcr\n",
    "'''\n",
    "def mean(data):\n",
    "    \"\"\"Return the sample arithmetic mean of data.\"\"\"\n",
    "    n = len(data)\n",
    "    if n < 1:\n",
    "        raise ValueError('mean requires at least one data point')\n",
    "    return sum(data)/n # in Python 2 use sum(data)/float(n)\n",
    "\n",
    "def _ss(data):\n",
    "    \"\"\"Return sum of square deviations of sequence data.\"\"\"\n",
    "    c = mean(data)\n",
    "    ss = sum((x-c)**2 for x in data)\n",
    "    return ss\n",
    "\n",
    "def getStdev(data):\n",
    "    \"\"\"Calculates the population standard deviation.\"\"\"\n",
    "    n = len(data)\n",
    "    if n < 2:\n",
    "        raise ValueError('variance requires at least two data points')\n",
    "    ss = _ss(data)\n",
    "    pvar = ss/n # the population variance\n",
    "    return pvar**0.5"
   ]
  },
  {
   "cell_type": "code",
   "execution_count": 230,
   "metadata": {
    "collapsed": false
   },
   "outputs": [],
   "source": [
    "def getTrace(x, y, title, color):\n",
    "    return go.Scatter(\n",
    "        x = x,\n",
    "        y = y,\n",
    "        mode = \"markers\",\n",
    "        name = title,\n",
    "        marker = dict(\n",
    "            color = color\n",
    "        )\n",
    "    )\n",
    "\n",
    "def drawFundingCharts():\n",
    "    data1 = [getTrace(fundedProjectsTitles, projFundingAmounts, \"Amount of DWR Funding.\", \"rgb(193, 7, 184)\")]\n",
    "    data2 = [getTrace(fundedProjectsTitles, projTotalCosts, \"Total Project Costs.\",\"rgb(30, 188, 75)\" )]\n",
    "    py.plot(data1)\n",
    "    py.plot(data2)\n",
    "    \n",
    "drawFundingCharts()\n",
    "# print \"Mean Funding is: \" + str(mean(projFundingAmounts))\n",
    "# print \"Standard Deviation of Funding: \" + str(getStdev(projFundingAmounts))\n"
   ]
  },
  {
   "cell_type": "code",
   "execution_count": null,
   "metadata": {
    "collapsed": true
   },
   "outputs": [],
   "source": [
    "'''\n",
    "The following snippets are deal with the\n",
    "classification of the data that we have.\n",
    "\n",
    "It is based on the Amazing tutorial found at\n",
    "https://github.com/brandomr/document_cluster/blob/master/cluster_analysis.ipynb\n",
    "'''"
   ]
  },
  {
   "cell_type": "code",
   "execution_count": 7,
   "metadata": {
    "collapsed": true
   },
   "outputs": [],
   "source": [
    "import numpy as np\n",
    "import pandas as pd\n",
    "import nltk\n",
    "import re\n",
    "import os\n",
    "import codecs\n",
    "import mpld3\n",
    "from __future__ import print_function\n",
    "from sklearn import feature_extraction\n",
    "from nltk.stem.snowball import SnowballStemmer\n",
    "from sklearn.feature_extraction.text import TfidfVectorizer\n",
    "from sklearn.metrics.pairwise import cosine_similarity\n",
    "from sklearn.cluster import KMeans\n",
    "from sklearn.externals import joblib\n",
    "\n",
    "stopwords = nltk.corpus.stopwords.words(\"english\")\n",
    "stemmer = SnowballStemmer(\"english\")"
   ]
  },
  {
   "cell_type": "code",
   "execution_count": 8,
   "metadata": {
    "collapsed": false
   },
   "outputs": [],
   "source": [
    "'''\n",
    "Code courtesey of Brandon Rose\n",
    "https://github.com/brandomr\n",
    "'''\n",
    "def tokenizeAndStem(text):\n",
    "    tokens = [word for sent in nltk.sent_tokenize(text) for word in nltk.word_tokenize(sent)]\n",
    "    filtered_tokens = []\n",
    "    for token in tokens:\n",
    "        if re.search('[a-zA-Z]', token):\n",
    "            filtered_tokens.append(token)\n",
    "    stems = [stemmer.stem(t) for t in filtered_tokens]\n",
    "    return stems\n",
    "\n",
    "def tokenize(text):\n",
    "    tokens = [word.lower() for sent in nltk.sent_tokenize(text) for word in nltk.word_tokenize(sent)]\n",
    "    filtered_tokens = []\n",
    "    for token in tokens:\n",
    "        if re.search('[a-zA-Z]', token):\n",
    "            filtered_tokens.append(token)\n",
    "    return filtered_tokens\n",
    "\n",
    "def printTopTermsPerCluster(N, referenceDF, modelDF, model, terms):\n",
    "    print(\"Top terms per cluster:\")\n",
    "    print()\n",
    "    #sort cluster centers by proximity to centroid\n",
    "    order_centroids = model.cluster_centers_.argsort()[:, ::-1] \n",
    "    \n",
    "    for i in range(N):\n",
    "        print(\"Cluster %d words:\" % i, end='')\n",
    "    \n",
    "        for ind in order_centroids[i, :6]: #replace 6 with n words per cluster\n",
    "            print(' %s' % referenceDF.ix[terms[ind].split(' ')].values.tolist()[0][0].encode('utf-8', 'ignore'),\n",
    "                  end=',')\n",
    "        print() #add whitespace\n",
    "        print() #add whitespace\n",
    "    \n",
    "        print(\"Cluster %d titles:\" % i, end='')\n",
    "        for title in modelDF.ix[i]['title'].values.tolist():\n",
    "            print(' %s,' % title, end='')\n",
    "        print() #add whitespace\n",
    "        print() #add whitespace\n",
    "    print()\n",
    "    print()"
   ]
  },
  {
   "cell_type": "code",
   "execution_count": 9,
   "metadata": {
    "collapsed": true
   },
   "outputs": [],
   "source": [
    "def get_TfidfMatrix_Terms_Dist(textList):\n",
    "    vectorizer = TfidfVectorizer(max_df=0.8, max_features=200000,\n",
    "                                 min_df=0.2, stop_words='english',\n",
    "                                 use_idf=True, tokenizer=tokenizeAndStem,\n",
    "                                 ngram_range=(1,3)\n",
    "                                )\n",
    "    matrix = vectorizer.fit_transform(textList)\n",
    "    terms = vectorizer.get_feature_names()\n",
    "    distance = 1 - cosine_similarity(matrix)\n",
    "    return matrix , terms, distance  "
   ]
  },
  {
   "cell_type": "code",
   "execution_count": 10,
   "metadata": {
    "collapsed": false
   },
   "outputs": [],
   "source": [
    "def runKmeans(matrix, N):\n",
    "    kmeans = KMeans(N)\n",
    "    kmeans.fit(matrix)\n",
    "    return kmeans\n",
    "    \n",
    "def openModel(filename):\n",
    "    try:\n",
    "        model = joblib.load(filename)\n",
    "        return model\n",
    "    except:\n",
    "        print (\"could not open \" + str(filename))\n",
    "        \n",
    "def saveModel(model, name):\n",
    "    try:\n",
    "        joblib.dump(model, name)\n",
    "    except:\n",
    "        print (\"Error saving model under \" + name)\n",
    "        "
   ]
  },
  {
   "cell_type": "code",
   "execution_count": 11,
   "metadata": {
    "collapsed": true
   },
   "outputs": [],
   "source": [
    "def createDataFrameFromDict(dict_, indexList):\n",
    "    pandasDF = pd.DataFrame(dict_, index = indexList, # may have bug here.[indexList]\n",
    "                            columns = dict_.keys())\n",
    "    return pandasDF\n"
   ]
  },
  {
   "cell_type": "code",
   "execution_count": 12,
   "metadata": {
    "collapsed": true
   },
   "outputs": [],
   "source": [
    "'''\n",
    "name is the name you want this model\n",
    "to be saved as\n",
    "\n",
    "byList is expected to be a list of\n",
    "text.\n",
    "\n",
    "structure is a dict describing the structure\n",
    "of the data\n",
    "'''\n",
    "def classify(byList, name, structure, N):\n",
    "    totalvocabStemmed = []\n",
    "    totalvocabTokenized = []\n",
    "    for each in byList:\n",
    "        allwordsStemmed = tokenizeAndStem(each) \n",
    "        totalvocabStemmed.extend(allwordsStemmed)\n",
    "      \n",
    "        allwordsTokenized = tokenize(each)\n",
    "        totalvocabTokenized.extend(allwordsTokenized)\n",
    "    \n",
    "    frameBuilder = {\n",
    "        \"words\" : totalvocabTokenized\n",
    "    }\n",
    "    vocabsDataFrame = createDataFrameFromDict(frameBuilder,\n",
    "                                              totalvocabStemmed)\n",
    "    \n",
    "    tfidfmatrix, terms, dist = get_TfidfMatrix_Terms_Dist(byList)\n",
    "    \n",
    "    # Should check if name already exists.\n",
    "    # If it does, do not re-run the model \n",
    "    # read in the model insead.\n",
    "    # openModel(name)\n",
    "    kmeansModel = runKmeans(tfidfmatrix, N)\n",
    "    # saveModel(name)\n",
    "    structure[\"clusters\"] = kmeansModel.labels_.tolist()\n",
    "    \n",
    "    byListDataFrame = createDataFrameFromDict(structure,\n",
    "                                              kmeansModel.labels_.tolist())\n",
    "    printTopTermsPerCluster(N, vocabsDataFrame, byListDataFrame, kmeansModel, terms)\n",
    "    \n",
    "def runClassification():\n",
    "    structure = {\n",
    "        \"title\" : proposedProjectsTitles,\n",
    "        \"abstract\" : proposedProjectsAbstracts\n",
    "    }\n",
    "    df = classify(essence,\n",
    "             \"classification by title\", \n",
    "             structure, \n",
    "             8)\n",
    "    \n",
    "    "
   ]
  },
  {
   "cell_type": "code",
   "execution_count": 13,
   "metadata": {
    "collapsed": false
   },
   "outputs": [
    {
     "name": "stdout",
     "output_type": "stream",
     "text": [
      "Top terms per cluster:\n",
      "\n",
      "Cluster 0 words: use, 's, reduce, san, francisco, san,\n",
      "\n",
      "Cluster 0 titles: east bayshore recycled water project phase 1b - oakland-alameda estuary crossing , central redwood city recycled water project phases iiaiib and iic , regional recycled water expansion project - disinfection system , south san francisco recycled water facility , san francisco eastside recycled water project , east bayshore recycled water project phase 2 , richmond advanced recycled expansion (rare) water project phase 2 , panhandle recycled water pipeline , western dublin recycled water distribution expansion and retrofit project , lake chabot raw water expansion project , east bayshore recycled water project phase 1b - alameda , peacock gap recycled water extension project , san francisco westside recycled water project , ddsd recycled water distribution system expansion , richmond advanced recycled expansion (rare) water project - future expansion , derwa pump station 1 - phase 2 , diablo country club satellite recycled water project , east bayshore recycled water project phase 1a , derwa recycled water plant and pump station 1 - phase 2 , daly city expansion recycled water project , city of hayward recycled water project , san ramon valley recycled water program - phase 3 - 4 , san leandro water reclamation facility expansion project , san francisco groundwater supply project-lake merced and golden gate park central well stations , san ramon valley recycled water program - phase 2a , central dublin rw distribution and retrofit project , palo alto recycled water project , recycled water distribution and retrofit for county and federal facilities , reliez valley recycled water project , san ramon valley recycled water program - phase 5 - 6 , satellite recycled water treatment plant project ,\n",
      "\n",
      "Cluster 1 words: creek, fish, sediment, channel, road, improvements,\n",
      "\n",
      "Cluster 1 titles: corte madera creek watershed: saunders fish barrier removal , lower lagunitas creek habitat restoration project , muir beach water conservation implementation , lower walnut creek restoration martinez , redwood creek restoration at muir beach phase 5 , pinole creek fish passage improvements project at i-80 culverts , rodeo creek stabilization near christie road rodeo (#16) , altamont creek improvement (r1-1) , assessment of an urban watershed and implementation of urban stormwater retrofit projects , springtown improvements (r1-3) , wildcat creek fish passage and habitat restoration (1135)(#7) , sausal creek restoration project , upper alameda creek filter gallery project , lagunitas creek winter habitat enhancement implementation , nmwd gallagher well and pipeline project , implementation of high priority projects identified in the pilarcitos creek integrated watershed management plan , montezuma creek rehabilitation and fish passage project , berryessa creek flood protection project , upper york creek dam removal -- st. helena napa river watershed , refugio creek and north channel restoration , corte madera creek headwaters restoration plan , rodeo creek sediment removal rodeo (#14) , walnut creek sediment removal - clayton valley drain to drop structure 1  concord (#118) , lynch canyon watershed improvements , san catanio creek culvert repair and enhancement , fish barrier removal at railroad overcrossing (r3-5b) , corte madera creek watershed sediment control and drinking water reliability project , alameda county adopt-a-creek-spot , alhambra valley creek coalition - erosion control and riparian restoration project , san lorenzo creek watershed fisheries restoration project - phase 1 , san lorenzo creek watershed fisheries restoration project - major fish passage barrier removal (mb-10) phase 2 , mission boulevard to meek estate creekside trail and habitat improvements , upper napa river water quality improvement and habitat enhancement project , san gregorio creek tributary water quality and flow monitoring , spring branch creek tidal marsh & seasonal creek restoration , ash creek stormwater management and wildlife enhancement project , wildcat creek watershed erosion and sediment control project , removing fish passage barriers in the napa river watershed , san leandro creek environmental education center alameda county , san leandro creek hazard tree management and riparian habitat restoration , shinn pond fish screen , fish passage improvements at memorial county park san mateo county , grayson creek sediment removal pacheco (unincorp.)(#109) , implementing tmdls in the napa river sonoma and suisun creek watersheds with the fish friendly farming/fish friendly ranching programs , san geronimo landowner assistance program- habitat restoration projects , sediment management plan for the gravel creek watershed , pilarcitos creek equestrian bridge , implementation of pond management plan , soulajule environmental enhancement , mcinnis marsh habitat restoration project , san lorenzo creek watershed stewardship program , rubber dam no. 3 fish ladder , napa river restoration: oakville to oak knoll reach , lagunitas booster station , corte madera creek tidal marsh restoration , wildcat sediment basin desilt north richmond (#5) , rubber dam no. 1 fish ladder , butano creek stream course restoration , steelhead habitat enhancement project , streambank stabilization using bio-engineering , chimes creek watershed rehabilitation , countywide fish passage improvement , defining summer low flow channels in engineered streams , lower berryessa creek flood protection project , upper berryessa creek flood protection project , upper penitencia creek flood protection project , stevens creek restoration at blackberry farm cupertino (reach c- greater than 1000 feet in length) , alhambra valley creek coalition restoration project , cupid row canal of san bruno flood control channel , calabazas creek miller avenue to wardell road , cordilleras creek restoration project , demonstrating road improvements in napa basin , fish passage restoration implementation projects , marin wilson and wiggins creek channel maintenance and revegetation project ,\n",
      "\n",
      "Cluster 2 words: bay, area, program, bay, wetlands, san,\n",
      "\n",
      "Cluster 2 titles: the students and teachers restoring a watershed (straw) program , bay area regional shoreline resilience program , san francisco bay nutrient reduction and recycling project , caribbean avenue green street , breuner marsh restoration richmond , bel marin keys phase of the hamilton wetlands restoration , the bay area creek mouth assessment tool , robertson park enhancement project and levee construction (r3-2) , sears point restoration project , san francisco bay livestock and land program , 2020 turf replacement project , accelerating sustainable landscape adoption in the bay area , building climate change resiliency along the bay with green infrastructure & treated wastewater , albany beach restoration and public access project , regional sea level rise adaptation strategy , south bay salt pond restoration project & south san francisco bay shoreline study: early implementation activities , goat island marsh tidal marsh restoration & interpretive nature trail , palo alto golf course redesign wetlands enhancement and restoration project , watershed information center & conservancy of napa county , water conservation and mobile water lab program , resilient landscapes climate adaptation strategy: tools for designing sustainable bay area stream wetland and riparian habitats , alameda county healthy watershed program , bay-friendly landscape standards for green infrastructure projects: maximizing watershed benefits , bay point regional shoreline wetland restoration , study of mercury methylation in south san francisco bay in relation to nutrient sources , agricultural riparian buffer and habitat enhancement , san francisquito watershed plan , marin county sea level rise land use adaptation , san lorenzo creek tidal wetlands restoration , collaborative aquatic resource protection in the watershed context: science and technology to visualize alternative landscape futures , altamont and las positas creeks/springtown alkali sink restoration , alameda county riparian invasive mapping and removal , hayward marsh restoration and enhancement project , the students and teachers restoring a watershed (straw) project , upland transition zone mapping for southern san pablo bay (west): , bolinas lagoon ecosystem restoration project , bay area regional water conservation and education program , bay area water supply and conservation agency (bawsca) brackish groundwater desalination project (brackish groundwater project) , bay-friendly qualified landscape professionals training , alameda county habitat easements , beach watch program , southwestern solano county open space acquisition and watershed assessment , tule ponds education center rehabilitation , implementing landsmart plans to improve water quality , richardson bay erosional shoreline adaptation to sea level rise: draft conceptual designs and opportunity/constraints assessment , bay area green infrastructure initiative: scientific support related to planning and implementation of water infrastructure upgrades toward green alternatives , san francisco bay tidal marsh-upland transition zone decision support system (dss) , bay-friendly outreach campaign for home gardeners and nurseries , bay area regional desalination project (bardp) - alternative analysis report , conserving our watersheds , implementation of the napa river watershed assessment framework , veterans' court seawall reconstruction , bay area regional reliability interties - ebmud/ccwd , san pablo bay south watershed community stewardship program , contra costa county lid school program , cleaning up trash in the bay area's stormwater , 350 home and garden challenge bay area , developing a conservation reserve enhancement program proposal (crep) to improve water quality and protect rangeland habitats in the bay area , rheem creek conservation project (shortcut pipeline improvement project) , contra costa county low impact development rebate program , san pablo bay south watershed awareness and action plan , tomales bay watershed water quality monitoring and improvement program , projects to reduce and control pcbs in stormwater through tmdl implementation , south san francisco bay shoreline study: alviso ponds and santa clara county , projects to reduce and control copper in stormwater discharges , regional biosolids project , richmond bayshore stewards , candlestick point state recreation area yosemite slough restoration project , community stormwater management - sunnydale watershed , city of fremont npdes stormwater treatment measures evaluation , watershed habitat and project mapping program , sustainable streets for improved stormwater quality and water reuse , corte madera creek watershed plan , groundwater recharge opportunities for the bay area , island ponds tidal wetland restoration ,\n",
      "\n",
      "Cluster 3 words: bank, flooding, existing, riparian, regional, enhance,\n",
      "\n",
      "Cluster 3 titles: alamo canal flood control program (r9-7) , arroyo de la laguna (adll) improvement project 2 (r10-2) , arroyo de la laguna (adll) improvement project 4 (r10-4) , arroyo las positas diversion project (r5-3) , arroyo las positas multi-purpose project (r1-6) , arroyo seco improvements (r2-2) , capacity improvement at arroyo las positas (r1-7) , stanley enhancement and restoration project (r3-5a) , line g-1-1 maintenance plan (r9-6 ) , lower arroyo del valle restoration and enhancement project (r7-3) , parks floodplain dedication and levee construction (madeiros) (r3-3) , springtown golf course improvements (r1-4) , upper arroyo de la laguna (adll) improvement project (r8-4) , airway improvement project (r5-2 ) , alamo canal/south san ramon creek erosion control (r9-1) , arroyo de la laguna (adll) improvement project 3 (r10-3) , arroyo de la laguna (adll) improvement project 5 (r10-5) , arroyo las positas habitat enhancement and recreation project (r1-5) , arroyo mocho management plan (r6-1) , chabot canal improvement project (r8-2) , holmes street sedimentation basin and granada/murrieta protection and enhancement (madeiros) project (r3-4) , sinbad creek project (r11-2) , tassajara creek improvement project (r8-1) , arroyo mocho bypass and regional storage at chain of lakes (r6-2) , lower arroyo mocho improvement project (r8-3) , napa river rutherford reach restoration project , arroyo de la laguna (adll) improvement project 1 (r10-1) ,\n",
      "\n",
      "Cluster 4 words: creek, surface, storage, storage, watershed, open,\n",
      "\n",
      "Cluster 4 titles: napa river arundo removal lodi lane to zinfandel lane , permanente creek flood protection , creek signage , alameda county tesla road transportation stormwater quality improvement , westborough main pump station generator , alameda county norbridge/strobridge road transportation stormwater quality improvement , alameda county patterson pass road transportation stormwater quality improvement , installation of a new seismic valve at skyline tanks , streambank and habitat restoration projects , alameda county vasco road transportation stormwater quality improvement , corte madera creek watershed: barriers to fish passage in sleepy hollow creek , corte madera creek watershed: smolt trapping , new pressure reducing valve (prv) station , suisun valley flood management , new tank mixer for skyline tanks , memorial park waste water treatment , exterior painting of skyline tanks , solano project terminal reservoir seismic mitigation , kirker creek watershed greenway park plan , thompson creek stream stabilization , upper guadalupe river project early implementation reaches (reach 6 and 12 downtown and north san jose) , upper guadalupe river project reach 6 highway 280 to union pacific rr , urban creek trash reduction program , sky valley/sulfur springs watershed management plan , storm drain system maintenance equipment , sugarloaf ridge state park erosion control: goodspeed trail rehabiltation , pollutant characterization of colma creek , rain gauge and creek level / flow monitoring (san mateo) , rodeo creek watershed plan , regional bmps field manual and training for stream maintenance activities , watershed monitoring & assessment program (wmap) , alhambra creek restoration and environmental education collaborative (acreec): john swett campus , annadel state park erosion control: geary ranch road to trail conversion , creekwise creek care education program for creekside property owners , bay area levee certification , burlingame / ralston creek restoration project , corona road - denman reach flood wall , corte madera creek watershed models , developing and evaluating options for mitigating risks of public health impacts of eating fish , easton creek restoration project , fish passage improvements , fisheries and aquatic habitat collaborative effort , emergency preparedness for widespread and/or tidal flooding , guadalupe river adaptive management , guadalupe watershed modeling towards mercury management to achieve tmdl goals , ledgewood creek flood management , line f-4 concrete lining (r9-2 ) , lower walnut creek restoration , marin county benthic macroinvertebrate sampling program , mid coyote , mount diablo state park: comprehensive stock pond evaluation and sedimentation remediation , beaver pond habitat enhancement project at the dow wetland preserve , kirker creek watershed nursery , creek facility inventory , upper guadalupe river project (reach 12 - branham lane to blossom hill road) , sanchez / terrace creek restoration project , sonoma valley invasive weed control , state lands road and trails plan sonoma creek watershed , stormwater pump station retrofit project for the 21st century , strentzel meadow enhancement , pond a8 applied study , protection from tidal flooding , rain gauge and creek level / flow monitoring (burlingame) , san leandro tributaries at south hills , rollingwood neighborhood creek restoration project , rheem creek restoration and watershed council , robert louis stevenson state park erosion control: table rock trail re-route , alameda county partnership for land conservation and stewardship , creekwise , benchmark elevation system , capri creek channel maintenance and revegetation project , codornices creek kains to san pablo , corte madera creek water quality monitoring , development of regional gis for watershed planning , ecowise certified , flood prone property acquisition study , guadalupe river watershed habitat enhancement , lake merritt and lake merritt channel improvements , ledson marsh restoration: annadel state park , line j-1 j-3 and j-5 improvements (r9-3) , lower silver creek reaches 4-6 , lynch creek maintenance project , mills creek restoration project ,\n",
      "\n",
      "Cluster 5 words: stormwater, storm, pollutant, area, improvements, city,\n",
      "\n",
      "Cluster 5 titles: upper yosemite creek daylighting project , san jos  green alleys demonstration project , central/eastshore pump station improvement project , vista grande drainage basin improvement project , school district green infrastructure capacity building/pilot projects , city of san jose citywide storm drain master plan , montalvin manor stormwater harvest and use bioretention and flood risk reduction project , alameda county foothill blvd. transportation stormwater quality improvement , mercury reduction benefits of low impact development , rush ranch hq storm water management public access & rangeland improvements , suisun city flood management and habitat restoration project , hillman area improvements project , grant avenue green street water quality/flood protection demonstration site , sfpuc westside watershed green infrastructure early implementation projects , charcot storm pump station , implementing \"slow it spread it sink it!\" in sonoma and napa counties , contra costa county green street retrofit network , acpwa low impact development implementation and demonstration project: parking lot stormwater treatment improvements , bolinas avenue stormwater quality improvements and fernhill creek restoration , miller avenue green street plan , lid and stormwater management - lagunitas watershed , decoto district green streets phase 3 , north richmond pump station - retrofit and replumb , city of berkeley watershed management plan , san jos  green streets demonstration project , regional green infrastructure capacity building program , sfpuc eastside watershed green infrastructure early implementation projects , vista grande watershed plan ,\n",
      "\n",
      "Cluster 6 words: flooding, creek, channel, improvements, flooding, area,\n",
      "\n",
      "Cluster 6 titles: bayfront canal flood management and habitat restoration project , da 48b storm drain line a at port chicago highway bay point (#201) , alkali sink management (r1-2) , san francisquito creek flood protection and ecosystem restoration capital improvement project east bayshore road to san francisco bay , wildcat/san pablo creeks phase ii channel improvements san pablo (#9) , sfo airport shoreline protection , pacheco marsh restoration martinez , corte madera creek watershed infiltration and storage assessment , line t crossing retrofit (r9-4) , martinez adult school flood protection & creek enhancement , sonoma valley integrated water management program , grayson and murderer's creek subregional improvements pleasant hill (#106) , pine creek dam seismic assessment walnut creek (#122) , marin county flood control asset management , estudillo canal area/san leandro flood control improvement project - phase 3 , laguna creek flood protection and restoration project , wildcat and san pablo creeks restoration and management plan , stinson beach flood protection and habitat enhancement project , pine creek reservoir sediment removal and capacity restoration walnut creek (#124) , estudillo canal area/san leandro flood control improvement project - phase 2 , alameda creek flood protection fish passage and habitat enhancement project , salvador creek intregrated flood and watershed improvements , grimmer greenbelt gateway (line g channel enhancement) , estudillo canal area/san leandro flood control improvement project - phase 1 , stivers lagoon marsh project , water dog lake sediment removal , east palo alto storm water conveyance tidal flood protection ecosystem restoration and recreational enhancement project , petaluma flood impact reduction water & habitat quality recreation phase iv , sulphur creek/hayward flood control improvement project , corte madera bayfront flood protection and wetlands restoration project , san francisquito creek flood reduction ecosystem restoration and recreation project highway 101 to el camino real , milliken creek flood reduction fish passage barrier removal and habitat restoration , san lorenzo creek flood control project - phase 2 , castro valley flood control improvement project , bockman canal area flood control improvement project , white slough flood control and improvement project , cesar chavez street flood and stormwater managment sewer improvement project , san lorenzo creek flood control project - phase 1 , mission creek flood protection and restoration project , mapping marin county's flood control levees , grayson creek levee raising and rehabilitation pacheco (#_) , ardenwood creek flood protection and restoration project , pinole creek habitat restoration (1135 project) pinole (#12) , chelsea wetlands restoration project , walnut creek levee rehabilitation at buchanan field airport concord (#119) , city watersheds of sonoma valley , cull canyon dam and reservoir project , da 48c storm drain line at marina road bay point (#_) , colma creek flood control and habitat mitigation improvements , san francisquito creek flood damage reduction & ecosystem restoration project , regional flood agencies forum , coyote creek-lower reach maintenance project ,\n",
      "\n",
      "Cluster 7 words: treatment, city, use, facility, basin, plants,\n",
      "\n",
      "Cluster 7 titles: cccsd-concord recycled water project , north coast county water district drought preparedness and water conservation plan , san bruno groundwater development project , north bay water reuse authority (nbwra) sub-regional project , south bay aqueduct turnout construction and low-flow crossings (r3-1) , sycamore grove recharge bypass project (r4-1 ) , south east bay plain basin groundwater model enhancements , marin water supply reliability project , ebmud/zone 7 regional reliability intertie , santa clara valley water district advanced recycled water treatment facility expansion project , ddsd advanced water treatment , recycled water facility renewable energy system , canal liner rehabilitation and slope stability at milepost 23.03 , milliken diversion dam flow control , city of milpitas recycled water extension: phase 1 2 & 3 , east palo alto groundwater supply conjunctive use project , headquarters facility - landscaping , wastewater renewable energy enhancement , redwood city recycled water project phase 2   central redwood city , total dissolved solids reduction/salinity management project , regional groundwater storage and recovery project , bay area water supply and conservation agency (bawsca)   east bay municipal utility district (ebmud) short-term water transfer pilot project (pilot project) , niles cone groundwater basin monitoring well construction project , mountain view/ sunnyvale recycled water intertie alignment study , napa county groundwater/surface water monitoring wells , portola redwood state park wastewater system , north marin water district marin country club recycled water expansion , pescadero water supply and sustainability project , rossmoor well replacement project , roseview heights mutual water tanks & main upgrades , scada system major upgrades , martinez water quality and supply reliability improvement project , south east bay plain basin subsidence monitoring network , ddsd advanced wastewater treatment , almaden dam improvements , cccsd refinery recycled water project , sonoma valley groundwater banking program , ebmud - pretreatment facilities , grayson creek levee rehabilitation at cccsd treatment plant pacheco (#107) , bayside groundwater project phase 2 , southern marin recycled water system , zone 1 recycled water- pleasant hill build out , san francisco international airport industrial waste treatment plant and reclaimed water facility , water treatment plant improvement project , anderson dam seismic retrofit project ,\n",
      "\n",
      "\n",
      "\n"
     ]
    }
   ],
   "source": [
    "runClassification()"
   ]
  },
  {
   "cell_type": "code",
   "execution_count": null,
   "metadata": {
    "collapsed": true
   },
   "outputs": [],
   "source": []
  }
 ],
 "metadata": {
  "kernelspec": {
   "display_name": "Python 2",
   "language": "python",
   "name": "python2"
  },
  "language_info": {
   "codemirror_mode": {
    "name": "ipython",
    "version": 2
   },
   "file_extension": ".py",
   "mimetype": "text/x-python",
   "name": "python",
   "nbconvert_exporter": "python",
   "pygments_lexer": "ipython2",
   "version": "2.7.11"
  }
 },
 "nbformat": 4,
 "nbformat_minor": 1
}
