{
 "cells": [
  {
   "cell_type": "code",
   "execution_count": 231,
   "metadata": {
    "collapsed": false
   },
   "outputs": [],
   "source": [
    "import sys\n",
    "import os\n",
    "import io\n",
    "import re\n",
    "import db\n",
    "import wrangling as wr\n",
    "import numpy as np\n",
    "import plotly.plotly as py\n",
    "import plotly.graph_objs as go\n",
    "# from future import statistcs as stats\n",
    "\n",
    "\n",
    "databaseName = \"database.csv\"\n",
    "fundedProjectsFile = \"FundedProjects.csv\"\n",
    "dbreaderHandle = db.createReader(databaseName)\n",
    "fundedProjectsHandle = db.createReader(fundedProjectsFile)\n",
    "dbreader = dbreaderHandle[0]\n",
    "fprojectsreader = fundedProjectsHandle[0]\n",
    "\n",
    "# vectors & dicts\n",
    "locationLatAndLong = []\n",
    "\n",
    "countiesDict = {}\n",
    "sponsorsOfProposedProjects = {}\n",
    "areasOfInterestByCounty = {}\n",
    "\n",
    "projFundingAmounts =  []\n",
    "projTotalCosts = []\n",
    "fundedProjectsTitles = []\n",
    "\n",
    "# Bitvectors\n",
    "drinkingWater = []\n",
    "waterQualityImprovement = []\n",
    "waterReuseAndRecycling = []\n",
    "stormwaterImprovements = []\n",
    "groundwaterBenefits = []\n",
    "infiltration = []\n",
    "habitatProtection = []\n",
    "floodProtection = []\n",
    "\n",
    "#Constants\n",
    "areasOfInterest = [\n",
    "    'Drinking Water Supply',\n",
    "    'Water Quality Improvement',\n",
    "    'Water Reuse/Recycling',\n",
    "    'Stormwater Improvements',\n",
    "    'Groundwater Benefits',\n",
    "    'Infiltration',\n",
    "    'Habitat Protection and Restoration',\n",
    "    'Flood Protection'\n",
    "]"
   ]
  },
  {
   "cell_type": "code",
   "execution_count": 218,
   "metadata": {
    "collapsed": true
   },
   "outputs": [],
   "source": [
    "def fillSponsorsDict(row):\n",
    "    sponsorsStr = row[12]\n",
    "    sponsorsStr = sponsorsStr.strip().replace(\"\\n\", \"/\")\n",
    "    if len(sponsorsStr) == 0:\n",
    "        return\n",
    "    tokens = sponsorsStr.split(\"/\")\n",
    "    for eachAgency in tokens:\n",
    "        eachAgency = eachAgency.strip()\n",
    "        if len(sponsorsStr) == 0:\n",
    "            continue\n",
    "        if \"zone 7\" in sponsorsStr or sponsorsStr is \"zone 7\":\n",
    "            sponsorsStr = \"zone 7 water agency\"\n",
    "            \n",
    "        if eachAgency in sponsorsOfProposedProjects:\n",
    "            sponsorsOfProposedProjects[eachAgency] += 1\n",
    "        else:\n",
    "            sponsorsOfProposedProjects[eachAgency] = 1"
   ]
  },
  {
   "cell_type": "code",
   "execution_count": 219,
   "metadata": {
    "collapsed": true
   },
   "outputs": [],
   "source": [
    "def appendBitvectors(row):\n",
    "    appendToV(row, drinkingWater, 13)\n",
    "    appendToV(row, waterQualityImprovement, 14)\n",
    "    appendToV(row, waterReuseAndRecycling, 15)\n",
    "    appendToV(row, stormwaterImprovements, 16)\n",
    "    appendToV(row, groundwaterBenefits, 17)\n",
    "    appendToV(row, infiltration, 18)\n",
    "    appendToV(row, habitatProtection, 19)\n",
    "    appendToV(row, floodProtection, 20)\n",
    "    \n",
    "def appendToV(row, vector, index):\n",
    "    if(\"1\" in row[index]):\n",
    "        vector.append(1)\n",
    "    else:\n",
    "        vector.append(0)"
   ]
  },
  {
   "cell_type": "code",
   "execution_count": 220,
   "metadata": {
    "collapsed": false
   },
   "outputs": [],
   "source": [
    "def incrementAreasOfInterestCounts(ls, row):\n",
    "    start = 13\n",
    "    end = 20         \n",
    "    for i in range(start, end+1):\n",
    "        if(\"1\" in row[i]):\n",
    "            ls[i - start] += 1\n",
    "\n",
    "def initialize(row):\n",
    "    ls = []\n",
    "    start = 13\n",
    "    end = 20\n",
    "    for i in range(start, end+1):\n",
    "        if(\"1\" in row[i]):\n",
    "            ls.append(1)\n",
    "        else:\n",
    "            ls.append(0)\n",
    "    return ls\n",
    "\n",
    "\n",
    "def appendCounties(row):\n",
    "    countyStr = row[2]\n",
    "    counties1 = []\n",
    "    counties2 = []\n",
    "\n",
    "    countyStr = countyStr.replace(\"and \", \"\").replace(\"and\", \"\").replace(\"?\", \"\").replace(\".\", \"\").replace(\"Counties\",\"\")\n",
    "    counties1 = countyStr.split(\";\")\n",
    "    for name in counties1:\n",
    "        name = name.strip();\n",
    "        if \"sf\" in name:\n",
    "            name = \"san francisco\"\n",
    "        if \"mateo santa\" in name:\n",
    "            counties2.append(\"san mateo county\")\n",
    "            counties2.append(\"santa clara county\")\n",
    "            continue\n",
    "        if \"mateo san fr\" in name:\n",
    "            counties2.append(\"san mateo county\")\n",
    "            counties2.append(\"san francisco county\")\n",
    "            continue;\n",
    "        if len(name) > 0 and \"county\" not in name and not (name.startswith(\"all\") or name.startswith(\"9\")):\n",
    "            name += \" county\"\n",
    "            counties2.append(name)\n",
    "\n",
    "    for eachName in counties2:\n",
    "        if eachName:\n",
    "            if eachName in countiesDict:\n",
    "                countiesDict[eachName] += 1\n",
    "            else:\n",
    "                countiesDict[eachName] = 1\n",
    "                 \n",
    "            if eachName in areasOfInterestByCounty:\n",
    "                incrementAreasOfInterestCounts(areasOfInterestByCounty[eachName], row)\n",
    "            else:\n",
    "                areasOfInterestByCounty[eachName] = initialize(row)"
   ]
  },
  {
   "cell_type": "code",
   "execution_count": 221,
   "metadata": {
    "collapsed": false
   },
   "outputs": [],
   "source": [
    "def execute():\n",
    "    for row in dbreader:\n",
    "        appendCounties(row)\n",
    "        appendBitvectors(row)\n",
    "        fillSponsorsDict(row)\n",
    "        \n",
    "execute()"
   ]
  },
  {
   "cell_type": "code",
   "execution_count": null,
   "metadata": {
    "collapsed": true
   },
   "outputs": [],
   "source": [
    "wr.iplotPlotPie(countiesDict, \"Counties of Proposed Projects\")"
   ]
  },
  {
   "cell_type": "code",
   "execution_count": 209,
   "metadata": {
    "collapsed": false
   },
   "outputs": [
    {
     "data": {
      "text/plain": [
       "u'https://plot.ly/~jlikhuva/96'"
      ]
     },
     "execution_count": 209,
     "metadata": {},
     "output_type": "execute_result"
    }
   ],
   "source": [
    "# [0, 1, 2, 3, 4, 5, 6, 7, 8, 9]\n",
    "def createTrace(yvals, i):\n",
    "    trace = {\n",
    "      'x': areasOfInterestByCounty.keys(),\n",
    "      'y': yvals,\n",
    "      'name': areasOfInterest[i],\n",
    "      'type': 'bar'\n",
    "    };\n",
    "    return trace\n",
    "    \n",
    "def gatherValuesAt(index):\n",
    "    ls = []\n",
    "    for _, val in areasOfInterestByCounty.iteritems():\n",
    "        ls.append(val[index])\n",
    "#     print ls\n",
    "    return ls\n",
    "\n",
    "cdata = []\n",
    "for i in range(0, len(areasOfInterest)):\n",
    "    yvals = gatherValuesAt(i)\n",
    "    cdata.append(createTrace(yvals, i))\n",
    "\n",
    "layout = {\n",
    "  'xaxis': {'title': 'Bay Area Counties'},\n",
    "  'yaxis': {'title': 'Areas of interest'},\n",
    "  'barmode': 'relative',\n",
    "  'title': 'Areas Of Interest By County.',\n",
    " 'orientation' : 'h'\n",
    "};\n",
    "py.plot({'data': cdata, 'layout': layout})"
   ]
  },
  {
   "cell_type": "code",
   "execution_count": 126,
   "metadata": {
    "collapsed": false
   },
   "outputs": [],
   "source": [
    "def produceBubbleChart(data, maxN):\n",
    "    n = len(data)\n",
    "    chart = go.Scatter(\n",
    "        x = wr.getRandomIntList(0, maxN, n),\n",
    "        y = wr.getRandomIntList(0, maxN, n),\n",
    "        text = data.keys(),\n",
    "        mode = \"markers\",\n",
    "        marker = dict(\n",
    "            size = data.values(),\n",
    "        ) \n",
    "    )\n",
    "    data = [chart]\n",
    "    py.plot(data)    "
   ]
  },
  {
   "cell_type": "code",
   "execution_count": 98,
   "metadata": {
    "collapsed": false
   },
   "outputs": [],
   "source": [
    "def produceAreasOfInterestCharts():\n",
    "    titles = db.kHeadingNames\n",
    "    data = [go.Bar(\n",
    "            x=[titles[13], titles[14], titles[15], titles[16], titles[17], titles[18], titles[19], titles[20]],\n",
    "            y=[sum(drinkingWater), sum(waterQualityImprovement), sum(waterReuseAndRecycling),\n",
    "               sum(stormwaterImprovements), sum(groundwaterBenefits), sum(infiltration),\n",
    "               sum(habitatProtection), sum(floodProtection)],\n",
    "             marker = dict(\n",
    "                color = \"rgb(193, 7, 184)\"\n",
    "            )\n",
    "    )]\n",
    "    py.plot(data)\n",
    "produceAreasOfInterestCharts()"
   ]
  },
  {
   "cell_type": "code",
   "execution_count": 127,
   "metadata": {
    "collapsed": false
   },
   "outputs": [],
   "source": [
    "def produceHistogram(data):\n",
    "    data = [go.Bar(\n",
    "            x = data.keys(),\n",
    "            y = data.values(),\n",
    "            marker = dict(\n",
    "                color = \"rgb(30, 188, 75)\"\n",
    "            )\n",
    "        )]\n",
    "    py.plot(data)"
   ]
  },
  {
   "cell_type": "code",
   "execution_count": 107,
   "metadata": {
    "collapsed": false
   },
   "outputs": [],
   "source": [
    "# wr.iplotPlotPie(sponsorsOfProposedProjects, \"Sponsors of proposed projects.\")\n",
    "# produceBubbleChart(sponsorsOfProposedProjects, 500)\n",
    "produceHistogram(sponsorsOfProposedProjects)"
   ]
  },
  {
   "cell_type": "code",
   "execution_count": 222,
   "metadata": {
    "collapsed": false
   },
   "outputs": [],
   "source": [
    "def readInFundingAmounts(row):\n",
    "    fundedProjectsTitles.append(row[0])\n",
    "    projFundingAmounts.append(row[6])\n",
    "    projTotalCosts.append(row[7])\n",
    "    \n",
    "for row in fprojectsreader:\n",
    "    readInFundingAmounts(row)"
   ]
  },
  {
   "cell_type": "code",
   "execution_count": 226,
   "metadata": {
    "collapsed": true
   },
   "outputs": [],
   "source": [
    "'''\n",
    "Code in this snippet courtesey of S.O User \n",
    "http://stackoverflow.com/users/3923281/ajcr\n",
    "'''\n",
    "def mean(data):\n",
    "    \"\"\"Return the sample arithmetic mean of data.\"\"\"\n",
    "    n = len(data)\n",
    "    if n < 1:\n",
    "        raise ValueError('mean requires at least one data point')\n",
    "    return sum(data)/n # in Python 2 use sum(data)/float(n)\n",
    "\n",
    "def _ss(data):\n",
    "    \"\"\"Return sum of square deviations of sequence data.\"\"\"\n",
    "    c = mean(data)\n",
    "    ss = sum((x-c)**2 for x in data)\n",
    "    return ss\n",
    "\n",
    "def getStdev(data):\n",
    "    \"\"\"Calculates the population standard deviation.\"\"\"\n",
    "    n = len(data)\n",
    "    if n < 2:\n",
    "        raise ValueError('variance requires at least two data points')\n",
    "    ss = _ss(data)\n",
    "    pvar = ss/n # the population variance\n",
    "    return pvar**0.5"
   ]
  },
  {
   "cell_type": "code",
   "execution_count": 230,
   "metadata": {
    "collapsed": false
   },
   "outputs": [],
   "source": [
    "def getTrace(x, y, title, color):\n",
    "    return go.Scatter(\n",
    "        x = x,\n",
    "        y = y,\n",
    "        mode = \"markers\",\n",
    "        name = title,\n",
    "        marker = dict(\n",
    "            color = color\n",
    "        )\n",
    "    )\n",
    "\n",
    "def drawFundingCharts():\n",
    "    data1 = [getTrace(fundedProjectsTitles, projFundingAmounts, \"Amount of DWR Funding.\", \"rgb(193, 7, 184)\")]\n",
    "    data2 = [getTrace(fundedProjectsTitles, projTotalCosts, \"Total Project Costs.\",\"rgb(30, 188, 75)\" )]\n",
    "    py.plot(data1)\n",
    "    py.plot(data2)\n",
    "    \n",
    "drawFundingCharts()\n",
    "# print \"Mean Funding is: \" + str(mean(projFundingAmounts))\n",
    "# print \"Standard Deviation of Funding: \" + str(getStdev(projFundingAmounts))\n"
   ]
  },
  {
   "cell_type": "code",
   "execution_count": null,
   "metadata": {
    "collapsed": true
   },
   "outputs": [],
   "source": []
  }
 ],
 "metadata": {
  "kernelspec": {
   "display_name": "Python 2",
   "language": "python",
   "name": "python2"
  },
  "language_info": {
   "codemirror_mode": {
    "name": "ipython",
    "version": 2
   },
   "file_extension": ".py",
   "mimetype": "text/x-python",
   "name": "python",
   "nbconvert_exporter": "python",
   "pygments_lexer": "ipython2",
   "version": "2.7.11"
  }
 },
 "nbformat": 4,
 "nbformat_minor": 1
}
