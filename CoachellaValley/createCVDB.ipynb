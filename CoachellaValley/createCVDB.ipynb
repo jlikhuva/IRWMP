{
 "cells": [
  {
   "cell_type": "code",
   "execution_count": 74,
   "metadata": {},
   "outputs": [],
   "source": [
    "from selenium import webdriver\n",
    "from bs4 import BeautifulSoup as bs\n",
    "from time import sleep\n",
    "import pandas as pd\n",
    "import numpy as np\n",
    "import re\n",
    "import json\n",
    "import ast\n",
    "\n",
    "functions = ['extract_title',\n",
    "             'create_contact_json',\n",
    "             'create_location_json',\n",
    "             'extract_project_partners',\n",
    "             'create_project_type_json',\n",
    "             'create_project_description_json',\n",
    "             'create_readiness_to_proceed_json',\n",
    "             'create_budget_json',\n",
    "             'create_contribution_to_irwmp_json',\n",
    "             'create_affected_groundwater_basins_json',\n",
    "             'create_affected_baneficial_uses_json',\n",
    "             'create_planning_for_climate_change_json',\n",
    "             'create_rsrc_management_strategies_json',\n",
    "             'create_stakeholder_outreach_json',\n",
    "             'create_environmental_compliance_json',\n",
    "             'create_feasibility_doc_json',\n",
    "             'create_schedule_json',\n",
    "             'create_eligibility_json']\n",
    "ls = u\"['Title','Contact','Location','Partners','Type','Description','Readiness To Proceed','Budget','Contribution to IRWMP objectives','Affected Groundwater Basins','Affected Beneficial Uses','Planning for Climate Change','Resource Management Strategies','Stakeholder Outreach and Involvement','Environmental Compliance','Feasibility Documentation','Schedule','Eligibility']\"\n",
    "columns = ast.literal_eval(ls)"
   ]
  },
  {
   "cell_type": "code",
   "execution_count": 75,
   "metadata": {
    "collapsed": true
   },
   "outputs": [],
   "source": [
    "def main():\n",
    "    kLoginPage = \"http://irwm.rmcwater.com/cv/login.php\"\n",
    "    kUsername = \"jlikhuva@stanford.edu\"\n",
    "    kPassword = \"stanford2017\"\n",
    "    tbody, questionnaire_list = extractPageHTML(kLoginPage, kUsername, kPassword)\n",
    "#     create_preliminary_database(tbody)\n",
    "    create_full_database(questionnaire_list)\n",
    "    questionnaire_list_g = questionnaire_list"
   ]
  },
  {
   "cell_type": "code",
   "execution_count": 76,
   "metadata": {
    "collapsed": true
   },
   "outputs": [],
   "source": [
    "def create_preliminary_database(tbody):\n",
    "    bsObj = generateBeautifulSoupObject(tbody) \n",
    "    row =   extractAllTableEntries(bsObj)\n",
    "    index = []\n",
    "    np_array_data = []\n",
    "    for elem in row:\n",
    "        data = extractDataFromRow(elem)\n",
    "        index.append(data.pop(0))\n",
    "        np_array_data.append(data)\n",
    "    columns = ['Organization', 'Title', 'Functional Area', 'Grant Request', 'Total Cost']\n",
    "    data = np.array(np_array_data)\n",
    "    df = pd.DataFrame(data, index=index, columns=columns)\n",
    "    df.to_excel('Coachella Valley Database.xlsx')"
   ]
  },
  {
   "cell_type": "code",
   "execution_count": 79,
   "metadata": {
    "collapsed": true
   },
   "outputs": [],
   "source": [
    "def non_ascii_rem(str):\n",
    "    return ''.join([i if ord(i) < 128 else '' for i in str])\n",
    "\n",
    "def split_join(str):\n",
    "    trimmed_words = []\n",
    "    words = str.split()\n",
    "    for each in words:\n",
    "        trimmed_words.append(each.strip())\n",
    "    return \" \".join(trimmed_words)\n",
    "\n",
    "def create_full_database(questionnaire_list):\n",
    "    df = pd.read_csv('./column_titles')\n",
    "    index = 0\n",
    "    for questionnaire in questionnaire_list:\n",
    "        bs_obj = generateBeautifulSoupObject(questionnaire)\n",
    "        \n",
    "        entries = []\n",
    "        for i in xrange(1, 5):\n",
    "            cur_tbody_id = 'tbdTab_' + str(i)\n",
    "            cur_bs_obj = bs_obj.find(\"tbody\", {\"id\": cur_tbody_id})\n",
    "            entries += extractAllTableEntries(cur_bs_obj) \n",
    "        for idx, entry in enumerate(entries):\n",
    "            entries[idx] = split_join(non_ascii_rem(re.sub('\\s+',' ',str(entry)).strip())) \n",
    "            \n",
    "        features = {}\n",
    "        for idx, function in enumerate(functions):\n",
    "            cur_feature = columns[idx]\n",
    "            cur_feature_value = globals()[function](entries)\n",
    "            features[cur_feature] = cur_feature_value\n",
    "            \n",
    "        index_ = [index, ]\n",
    "        index += 1\n",
    "        new_df = pd.DataFrame(features, index=index_)\n",
    "        df = pd.concat([df, new_df])\n",
    "        \n",
    "    df.to_excel('Database.xlsx')"
   ]
  },
  {
   "cell_type": "code",
   "execution_count": 80,
   "metadata": {},
   "outputs": [],
   "source": [
    "main()"
   ]
  },
  {
   "cell_type": "code",
   "execution_count": null,
   "metadata": {
    "collapsed": true
   },
   "outputs": [],
   "source": [
    "def extract_title(value):\n",
    "    bs_obj = generateBeautifulSoupObject(str(value[0]))\n",
    "    return bs_obj.find(\"td\",{\"colspan\" : \"8\"}).text\n",
    "     \n",
    "def extract_project_partners(values):\n",
    "    return \"na\" "
   ]
  },
  {
   "cell_type": "code",
   "execution_count": null,
   "metadata": {
    "collapsed": true
   },
   "outputs": [],
   "source": [
    "def create_contact_json(values):\n",
    "    return \"na\""
   ]
  },
  {
   "cell_type": "code",
   "execution_count": null,
   "metadata": {
    "collapsed": true
   },
   "outputs": [],
   "source": [
    "def create_location_json(values):\n",
    "    return \"na\" "
   ]
  },
  {
   "cell_type": "code",
   "execution_count": null,
   "metadata": {
    "collapsed": true
   },
   "outputs": [],
   "source": [
    "def create_project_type_json(values):\n",
    "    return \"na\" "
   ]
  },
  {
   "cell_type": "code",
   "execution_count": 7,
   "metadata": {
    "collapsed": true
   },
   "outputs": [],
   "source": [
    "def create_project_description_json(values):\n",
    "    return \"na\""
   ]
  },
  {
   "cell_type": "code",
   "execution_count": 8,
   "metadata": {
    "collapsed": true
   },
   "outputs": [],
   "source": [
    "def create_readiness_to_proceed_json(values):\n",
    "    return \"na\""
   ]
  },
  {
   "cell_type": "code",
   "execution_count": 9,
   "metadata": {
    "collapsed": true
   },
   "outputs": [],
   "source": [
    "def create_budget_json(values):\n",
    "    return \"na\" "
   ]
  },
  {
   "cell_type": "code",
   "execution_count": 10,
   "metadata": {
    "collapsed": true
   },
   "outputs": [],
   "source": [
    "def create_contribution_to_irwmp_json(values):\n",
    "    return \"na\" "
   ]
  },
  {
   "cell_type": "code",
   "execution_count": 11,
   "metadata": {
    "collapsed": true
   },
   "outputs": [],
   "source": [
    "def create_affected_groundwater_basins_json(values):\n",
    "    return \"na\" "
   ]
  },
  {
   "cell_type": "code",
   "execution_count": 12,
   "metadata": {
    "collapsed": true
   },
   "outputs": [],
   "source": [
    "def create_affected_baneficial_uses_json(values):\n",
    "    return \"na\" "
   ]
  },
  {
   "cell_type": "code",
   "execution_count": 13,
   "metadata": {
    "collapsed": true
   },
   "outputs": [],
   "source": [
    "def create_planning_for_climate_change_json(values):\n",
    "    return \"na\""
   ]
  },
  {
   "cell_type": "code",
   "execution_count": 14,
   "metadata": {
    "collapsed": true
   },
   "outputs": [],
   "source": [
    "def create_rsrc_management_strategies_json(values):\n",
    "    return \"na\""
   ]
  },
  {
   "cell_type": "code",
   "execution_count": 15,
   "metadata": {
    "collapsed": true
   },
   "outputs": [],
   "source": [
    "def create_stakeholder_outreach_json(values):\n",
    "    return \"na\""
   ]
  },
  {
   "cell_type": "code",
   "execution_count": 16,
   "metadata": {
    "collapsed": true
   },
   "outputs": [],
   "source": [
    "def create_environmental_compliance_json(values):\n",
    "    return \"na\""
   ]
  },
  {
   "cell_type": "code",
   "execution_count": 17,
   "metadata": {
    "collapsed": true
   },
   "outputs": [],
   "source": [
    "def create_feasibility_doc_json(values):\n",
    "    return \"na\""
   ]
  },
  {
   "cell_type": "code",
   "execution_count": 18,
   "metadata": {
    "collapsed": true
   },
   "outputs": [],
   "source": [
    "def create_schedule_json(values):\n",
    "    return \"na\" "
   ]
  },
  {
   "cell_type": "code",
   "execution_count": 19,
   "metadata": {
    "collapsed": true
   },
   "outputs": [],
   "source": [
    "def create_eligibility_json(values):\n",
    "    return \"na\""
   ]
  },
  {
   "cell_type": "code",
   "execution_count": 20,
   "metadata": {
    "collapsed": true
   },
   "outputs": [],
   "source": [
    "def extractPageHTML(url, username, password):\n",
    "    browser = webdriver.Chrome(\"./chromedriver\")\n",
    "    browser.get(url)\n",
    "    username_field = browser.find_element_by_name('username')\n",
    "    password_field = browser.find_element_by_name('password')\n",
    "    submit_button  = browser.find_element_by_name('Login')\n",
    "    username_field.send_keys(username)\n",
    "    password_field.send_keys(password)\n",
    "    submit_button.click()\n",
    "    all_projects_tab = browser.find_element_by_link_text('All Submitted Projects')\n",
    "    all_projects_tab.click()\n",
    "    \n",
    "    all_projects_tbody = None\n",
    "    try:\n",
    "        all_projects_tbody = browser.find_element_by_id('tbdy_track_all')\n",
    "    except:\n",
    "        browser.switch_to.alert.dismiss();\n",
    "        sleep(1)\n",
    "        all_projects_tbody = browser.find_element_by_id('tbdy_track_all')\n",
    "        \n",
    "    form_buttons = browser.find_elements_by_xpath('//img[@src=\"images/frmView.png\"]')\n",
    "    return all_projects_tbody.get_attribute('innerHTML'), extract_questionnaire_inner_html(form_buttons, browser)\n",
    "\n",
    "def extract_questionnaire_inner_html(form_buttons, browser):\n",
    "    questionnaire_list = []\n",
    "    for button in form_buttons:\n",
    "        button.click()\n",
    "        \n",
    "    browser.close()\n",
    "    for window in browser.window_handles:\n",
    "        browser.switch_to_window(window)\n",
    "        innerHTML = browser.execute_script(\"return document.body.innerHTML\")\n",
    "        questionnaire_list.append(innerHTML)\n",
    "        browser.close()\n",
    "    return questionnaire_list"
   ]
  },
  {
   "cell_type": "code",
   "execution_count": 21,
   "metadata": {
    "collapsed": true
   },
   "outputs": [],
   "source": [
    "def generateBeautifulSoupObject(html):\n",
    "    try:\n",
    "        bsObject = bs(html, 'html.parser')  # from the bs4 3rd part library\n",
    "    except AttributeError as e:\n",
    "        return None\n",
    "    return bsObject"
   ]
  },
  {
   "cell_type": "code",
   "execution_count": 22,
   "metadata": {
    "collapsed": true
   },
   "outputs": [],
   "source": [
    "def extractAllTableEntries(bsobj):\n",
    "    rows = bsobj.find_all('tr')\n",
    "    return rows"
   ]
  },
  {
   "cell_type": "code",
   "execution_count": 23,
   "metadata": {
    "collapsed": true
   },
   "outputs": [],
   "source": [
    "def extractDataFromRow(row):\n",
    "    row = re.sub('\\s+',' ',str(row)).strip()\n",
    "    start_end_tuples = [(m.start(), m.end()) for m in re.finditer('</td>', row)]\n",
    "    positions = []\n",
    "    positions.append((0, start_end_tuples[0][0]))\n",
    "    for index, tup, in enumerate(start_end_tuples):\n",
    "        if index+1 == len(start_end_tuples):\n",
    "            break\n",
    "        positions.append((start_end_tuples[index][1], start_end_tuples[index+1][0]))\n",
    "    elems = [row[pos[0]:pos[1]] for pos in positions]\n",
    "    to_remove = [0, 1, 1]\n",
    "    for v in to_remove:\n",
    "        del elems[v]\n",
    "    clean = [elem[elem.rfind('>')+1:].strip().strip('\\xc2\\xa0') for elem in elems]\n",
    "    return clean"
   ]
  },
  {
   "cell_type": "code",
   "execution_count": 25,
   "metadata": {},
   "outputs": [
    {
     "data": {
      "text/plain": [
       "'\"{\\'Mee\\': \\'Heey\\'}\"'"
      ]
     },
     "execution_count": 25,
     "metadata": {},
     "output_type": "execute_result"
    }
   ],
   "source": [
    "json.dumps(repr({\"Mee\": \"Heey\"}))"
   ]
  }
 ],
 "metadata": {
  "kernelspec": {
   "display_name": "Python 2",
   "language": "python",
   "name": "python2"
  },
  "language_info": {
   "codemirror_mode": {
    "name": "ipython",
    "version": 2
   },
   "file_extension": ".py",
   "mimetype": "text/x-python",
   "name": "python",
   "nbconvert_exporter": "python",
   "pygments_lexer": "ipython2",
   "version": "2.7.11"
  }
 },
 "nbformat": 4,
 "nbformat_minor": 1
}
